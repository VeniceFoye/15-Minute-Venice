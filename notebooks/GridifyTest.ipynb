{
 "cells": [
  {
   "cell_type": "code",
   "execution_count": 1,
   "id": "7676c82a",
   "metadata": {},
   "outputs": [],
   "source": [
    "import geopandas as gpd\n",
    "\n",
    "import sys\n",
    "import os\n",
    "sys.path.insert(0, os.path.abspath('..'))\n",
    "\n",
    "from src.gridify import gdfs_to_grid, point_to_cell, cell_to_polygon, add_courtyards_fast, pois_to_grid_coords, pois_to_grid_coords_adjusted\n",
    "from src.viz_grid import save_grid_image, grid_to_image,  grid_with_pois_image\n",
    "\n",
    "from IPython.display import display\n",
    "import numpy as np\n"
   ]
  },
  {
   "cell_type": "code",
   "execution_count": 2,
   "id": "a7c05f96",
   "metadata": {},
   "outputs": [],
   "source": [
    "buildings_gdf = gpd.read_file(\"../data/2024-geometries/2024_Edifici_EPSG32633.geojson\")\n",
    "streets_gdf = gpd.read_file(\"../data/2024-geometries/2024_Streets_EPSG32633.geojson\")\n",
    "canals_gdf = gpd.read_file(\"../data/2024-geometries/2024_Canals_EPSG32633.geojson\")"
   ]
  },
  {
   "cell_type": "code",
   "execution_count": 3,
   "id": "9845a595",
   "metadata": {},
   "outputs": [
    {
     "data": {
      "text/plain": [
       "<Projected CRS: EPSG:32633>\n",
       "Name: WGS 84 / UTM zone 33N\n",
       "Axis Info [cartesian]:\n",
       "- E[east]: Easting (metre)\n",
       "- N[north]: Northing (metre)\n",
       "Area of Use:\n",
       "- name: Between 12°E and 18°E, northern hemisphere between equator and 84°N, onshore and offshore. Austria. Bosnia and Herzegovina. Cameroon. Central African Republic. Chad. Congo. Croatia. Czechia. Democratic Republic of the Congo (Zaire). Gabon. Germany. Hungary. Italy. Libya. Malta. Niger. Nigeria. Norway. Poland. San Marino. Slovakia. Slovenia. Svalbard. Sweden. Vatican City State.\n",
       "- bounds: (12.0, 0.0, 18.0, 84.0)\n",
       "Coordinate Operation:\n",
       "- name: UTM zone 33N\n",
       "- method: Transverse Mercator\n",
       "Datum: World Geodetic System 1984 ensemble\n",
       "- Ellipsoid: WGS 84\n",
       "- Prime Meridian: Greenwich"
      ]
     },
     "execution_count": 3,
     "metadata": {},
     "output_type": "execute_result"
    }
   ],
   "source": [
    "buildings_gdf.crs"
   ]
  },
  {
   "cell_type": "code",
   "execution_count": 4,
   "id": "c4dee3c7",
   "metadata": {},
   "outputs": [
    {
     "name": "stdout",
     "output_type": "stream",
     "text": [
      "{0: 'ocean', 1: 'street', 2: 'building', 3: 'canal'}\n"
     ]
    }
   ],
   "source": [
    "grid, tr, legend = gdfs_to_grid(buildings_gdf, streets_gdf, canals_gdf, cell_size=1)\n",
    "print(legend)          # {0:'ocean', 1:'street', 2:'building', 3:'canal'}\n"
   ]
  },
  {
   "cell_type": "code",
   "execution_count": 5,
   "id": "c2c9e1b1",
   "metadata": {},
   "outputs": [
    {
     "data": {
      "text/plain": [
       "array([[0, 0, 0, ..., 0, 0, 0],\n",
       "       [0, 0, 0, ..., 0, 0, 0],\n",
       "       [0, 0, 0, ..., 0, 0, 0],\n",
       "       ...,\n",
       "       [0, 0, 0, ..., 0, 0, 0],\n",
       "       [0, 0, 0, ..., 0, 0, 0],\n",
       "       [0, 0, 0, ..., 0, 0, 0]], shape=(6841, 4908), dtype=uint8)"
      ]
     },
     "execution_count": 5,
     "metadata": {},
     "output_type": "execute_result"
    }
   ],
   "source": [
    "grid"
   ]
  },
  {
   "cell_type": "code",
   "execution_count": 6,
   "id": "38d0881c",
   "metadata": {},
   "outputs": [
    {
     "data": {
      "text/plain": [
       "Affine(1.0, 0.0, 289084.0,\n",
       "       0.0, -1.0, 5037646.0)"
      ]
     },
     "execution_count": 6,
     "metadata": {},
     "output_type": "execute_result"
    }
   ],
   "source": [
    "tr"
   ]
  },
  {
   "cell_type": "code",
   "execution_count": 7,
   "id": "9fc2df18",
   "metadata": {},
   "outputs": [],
   "source": [
    "grid, legend = add_courtyards_fast(grid)"
   ]
  },
  {
   "cell_type": "code",
   "execution_count": 8,
   "id": "8b404e64",
   "metadata": {},
   "outputs": [
    {
     "data": {
      "text/plain": [
       "numpy.ndarray"
      ]
     },
     "execution_count": 8,
     "metadata": {},
     "output_type": "execute_result"
    }
   ],
   "source": [
    "type(grid)"
   ]
  },
  {
   "cell_type": "code",
   "execution_count": 9,
   "id": "c90fafc7",
   "metadata": {},
   "outputs": [],
   "source": [
    "# np.save(grid, )"
   ]
  },
  {
   "cell_type": "code",
   "execution_count": 10,
   "id": "64cf8acc",
   "metadata": {},
   "outputs": [],
   "source": [
    "# 1× zoom (one pixel per cell) – smallest file size\n",
    "save_grid_image(grid, \"city_1x.png\", scale=1)\n",
    "# save_grid_image(grid, \"city_2x.png\", scale=2)\n",
    "\n",
    "# 5× zoom – clearer when you open it in an image viewer\n",
    "# img = grid_to_image(grid, scale=5)"
   ]
  },
  {
   "cell_type": "markdown",
   "id": "b13973dc",
   "metadata": {},
   "source": [
    "# Adding data from the previous centuries"
   ]
  },
  {
   "cell_type": "code",
   "execution_count": 11,
   "id": "d2d7b7ba",
   "metadata": {},
   "outputs": [],
   "source": [
    "catastaci_1740 = gpd.read_file('../data/1740-catastici/1740_catastici_version20250625.geojson')"
   ]
  },
  {
   "cell_type": "code",
   "execution_count": 12,
   "id": "149e990a",
   "metadata": {},
   "outputs": [
    {
     "data": {
      "text/plain": [
       "Index(['uid', 'author', 'tif_path_img', 'owner_code', 'owner_count',\n",
       "       'PP_OwnerCode_SIMPL', 'owner_name', 'ten_name', 'function', 'an_rendi',\n",
       "       'id_napo', 'quantity_income', 'quality_income', 'place', 'parish_std',\n",
       "       'sestiere', 'PP_Function_TOP', 'PP_Function_MID',\n",
       "       'PP_Function_PROPERTY', 'PP_Function_GEOMETRY', 'PP_Bottega_STD',\n",
       "       'PP_Bottega_COUNT', 'PP_Bottega_TRAD', 'PP_Bottega_METACATEGORY',\n",
       "       'PP_Owner_Title', 'PP_Owner_Entity', 'PP_Owner_FirstName',\n",
       "       'PP_Owner_LastName', 'owner_mestiere_std', 'PP_Owner_Notes',\n",
       "       'geometry'],\n",
       "      dtype='object')"
      ]
     },
     "execution_count": 12,
     "metadata": {},
     "output_type": "execute_result"
    }
   ],
   "source": [
    "catastaci_1740.columns"
   ]
  },
  {
   "cell_type": "code",
   "execution_count": 13,
   "id": "377d9941",
   "metadata": {},
   "outputs": [
    {
     "data": {
      "text/plain": [
       "<Projected CRS: EPSG:32633>\n",
       "Name: WGS 84 / UTM zone 33N\n",
       "Axis Info [cartesian]:\n",
       "- E[east]: Easting (metre)\n",
       "- N[north]: Northing (metre)\n",
       "Area of Use:\n",
       "- name: Between 12°E and 18°E, northern hemisphere between equator and 84°N, onshore and offshore. Austria. Bosnia and Herzegovina. Cameroon. Central African Republic. Chad. Congo. Croatia. Czechia. Democratic Republic of the Congo (Zaire). Gabon. Germany. Hungary. Italy. Libya. Malta. Niger. Nigeria. Norway. Poland. San Marino. Slovakia. Slovenia. Svalbard. Sweden. Vatican City State.\n",
       "- bounds: (12.0, 0.0, 18.0, 84.0)\n",
       "Coordinate Operation:\n",
       "- name: UTM zone 33N\n",
       "- method: Transverse Mercator\n",
       "Datum: World Geodetic System 1984 ensemble\n",
       "- Ellipsoid: WGS 84\n",
       "- Prime Meridian: Greenwich"
      ]
     },
     "execution_count": 13,
     "metadata": {},
     "output_type": "execute_result"
    }
   ],
   "source": [
    "catastaci_1740.crs"
   ]
  },
  {
   "cell_type": "code",
   "execution_count": 14,
   "id": "af353feb",
   "metadata": {},
   "outputs": [
    {
     "data": {
      "text/plain": [
       "PP_Function_TOP\n",
       "CASA          22592\n",
       "MIXED          3572\n",
       "BOTTEGA        3339\n",
       "MAGAZZINO       993\n",
       "TRAGHETTO       490\n",
       "INVIAMENTO      434\n",
       "OTHER           417\n",
       "Name: count, dtype: int64"
      ]
     },
     "execution_count": 14,
     "metadata": {},
     "output_type": "execute_result"
    }
   ],
   "source": [
    "catastaci_1740.PP_Function_TOP.value_counts()"
   ]
  },
  {
   "cell_type": "code",
   "execution_count": 15,
   "id": "cf0a9e0d",
   "metadata": {},
   "outputs": [
    {
     "data": {
      "text/plain": [
       "PP_Bottega_METACATEGORY\n",
       "FOOD_DRINK             955\n",
       "COMMERCE_CLOTHING      374\n",
       "HEALTH_BEAUTY          352\n",
       "WOOD_CRAFT             181\n",
       "LUXURY_ITEMS           168\n",
       "METAL_CRAFT            151\n",
       "FOOD_RAW               114\n",
       "HOUSEHOLD_ITEMS        111\n",
       "FABRIC_SALE            110\n",
       "ARTS_CRAFT              81\n",
       "MIXED                   80\n",
       "BUILDING                74\n",
       "FABRIC_CRAFT            58\n",
       "SERVICES                45\n",
       "OTHER                   28\n",
       "STONE_CRAFT             25\n",
       "PAPER_SALE              24\n",
       "ARTS_CRAFT_SUPPLIES     19\n",
       "TRANSPORT               14\n",
       "LIBERAL_PROFESSION      12\n",
       "WOOD_SALE               11\n",
       "PAPER_CRAFT              7\n",
       "BOOK_SALE                6\n",
       "WEAPONS                  6\n",
       "GLASS_CRAFT              2\n",
       "GLASS_SALE               1\n",
       "Name: count, dtype: int64"
      ]
     },
     "execution_count": 15,
     "metadata": {},
     "output_type": "execute_result"
    }
   ],
   "source": [
    "catastaci_1740.PP_Bottega_METACATEGORY.value_counts()"
   ]
  },
  {
   "cell_type": "markdown",
   "id": "1756e53b",
   "metadata": {},
   "source": [
    "# POIs to Grid Cells"
   ]
  },
  {
   "cell_type": "code",
   "execution_count": 16,
   "id": "223ea082",
   "metadata": {},
   "outputs": [],
   "source": [
    "poi_gdf = catastaci_1740\n",
    "poi_gdf = pois_to_grid_coords(poi_gdf, tr, grid.shape)        # adds 'row', 'col'"
   ]
  },
  {
   "cell_type": "code",
   "execution_count": 17,
   "id": "06d22a4e",
   "metadata": {},
   "outputs": [
    {
     "data": {
      "text/html": [
       "<div>\n",
       "<style scoped>\n",
       "    .dataframe tbody tr th:only-of-type {\n",
       "        vertical-align: middle;\n",
       "    }\n",
       "\n",
       "    .dataframe tbody tr th {\n",
       "        vertical-align: top;\n",
       "    }\n",
       "\n",
       "    .dataframe thead th {\n",
       "        text-align: right;\n",
       "    }\n",
       "</style>\n",
       "<table border=\"1\" class=\"dataframe\">\n",
       "  <thead>\n",
       "    <tr style=\"text-align: right;\">\n",
       "      <th></th>\n",
       "      <th>uid</th>\n",
       "      <th>author</th>\n",
       "      <th>tif_path_img</th>\n",
       "      <th>owner_code</th>\n",
       "      <th>owner_count</th>\n",
       "      <th>PP_OwnerCode_SIMPL</th>\n",
       "      <th>owner_name</th>\n",
       "      <th>ten_name</th>\n",
       "      <th>function</th>\n",
       "      <th>an_rendi</th>\n",
       "      <th>...</th>\n",
       "      <th>PP_Bottega_METACATEGORY</th>\n",
       "      <th>PP_Owner_Title</th>\n",
       "      <th>PP_Owner_Entity</th>\n",
       "      <th>PP_Owner_FirstName</th>\n",
       "      <th>PP_Owner_LastName</th>\n",
       "      <th>owner_mestiere_std</th>\n",
       "      <th>PP_Owner_Notes</th>\n",
       "      <th>geometry</th>\n",
       "      <th>row</th>\n",
       "      <th>col</th>\n",
       "    </tr>\n",
       "  </thead>\n",
       "  <tbody>\n",
       "    <tr>\n",
       "      <th>0</th>\n",
       "      <td>CNC-0001</td>\n",
       "      <td>Davide Drago</td>\n",
       "      <td>/catastici/Catastici-436/10/1393.tif</td>\n",
       "      <td>PPL</td>\n",
       "      <td>1</td>\n",
       "      <td>Private</td>\n",
       "      <td>Liberal Campi secondo prete titolato della Chiesa</td>\n",
       "      <td>Francesco Zeni</td>\n",
       "      <td>casa e bottega da barbier</td>\n",
       "      <td>70</td>\n",
       "      <td>...</td>\n",
       "      <td>HEALTH_BEAUTY</td>\n",
       "      <td>SECONDO PRETE</td>\n",
       "      <td>None</td>\n",
       "      <td>Liberal</td>\n",
       "      <td>CAMPI</td>\n",
       "      <td></td>\n",
       "      <td>PERSON</td>\n",
       "      <td>POINT (291832.846 5035321.328)</td>\n",
       "      <td>2324</td>\n",
       "      <td>2748</td>\n",
       "    </tr>\n",
       "    <tr>\n",
       "      <th>1</th>\n",
       "      <td>CNC-0002</td>\n",
       "      <td>Davide Drago</td>\n",
       "      <td>/catastici/Catastici-436/10/1393.tif</td>\n",
       "      <td>PPL</td>\n",
       "      <td>1</td>\n",
       "      <td>Private</td>\n",
       "      <td>Filippo Frari terzo prete titolato della Chiesa</td>\n",
       "      <td>Dio M'aiuti Lazara</td>\n",
       "      <td>casa</td>\n",
       "      <td>60</td>\n",
       "      <td>...</td>\n",
       "      <td>None</td>\n",
       "      <td>TERZO PRETE</td>\n",
       "      <td>None</td>\n",
       "      <td>Filippo</td>\n",
       "      <td>FRARI</td>\n",
       "      <td></td>\n",
       "      <td>PERSON</td>\n",
       "      <td>POINT (291841.531 5035307.749)</td>\n",
       "      <td>2338</td>\n",
       "      <td>2757</td>\n",
       "    </tr>\n",
       "    <tr>\n",
       "      <th>2</th>\n",
       "      <td>CNC-0003</td>\n",
       "      <td>Davide Drago</td>\n",
       "      <td>/catastici/Catastici-436/10/1393.tif</td>\n",
       "      <td>ent_REL_TTL</td>\n",
       "      <td>1</td>\n",
       "      <td>Religious entity</td>\n",
       "      <td>Pievan di San Cancian</td>\n",
       "      <td>Bortolamio Piazza</td>\n",
       "      <td>bottega da strazariol</td>\n",
       "      <td>14</td>\n",
       "      <td>...</td>\n",
       "      <td>COMMERCE_CLOTHING</td>\n",
       "      <td>PIEVANO</td>\n",
       "      <td>CHIESA DI SAN CANCIANO</td>\n",
       "      <td>None</td>\n",
       "      <td>None</td>\n",
       "      <td></td>\n",
       "      <td>ENTITY</td>\n",
       "      <td>POINT (291845.478 5035313.512)</td>\n",
       "      <td>2332</td>\n",
       "      <td>2761</td>\n",
       "    </tr>\n",
       "    <tr>\n",
       "      <th>3</th>\n",
       "      <td>CNC-0004</td>\n",
       "      <td>Davide Drago</td>\n",
       "      <td>/catastici/Catastici-436/10/1393.tif</td>\n",
       "      <td>PPL</td>\n",
       "      <td>1</td>\n",
       "      <td>Private</td>\n",
       "      <td>Filippo Frari terzo prete titolato della Chiesa</td>\n",
       "      <td>Bortolamio Piazza</td>\n",
       "      <td>bottega da strazariol</td>\n",
       "      <td>4</td>\n",
       "      <td>...</td>\n",
       "      <td>COMMERCE_CLOTHING</td>\n",
       "      <td>TERZO PRETE</td>\n",
       "      <td>None</td>\n",
       "      <td>Filippo</td>\n",
       "      <td>FRARI</td>\n",
       "      <td></td>\n",
       "      <td>PERSON</td>\n",
       "      <td>POINT (291846.426 5035312.091)</td>\n",
       "      <td>2333</td>\n",
       "      <td>2762</td>\n",
       "    </tr>\n",
       "    <tr>\n",
       "      <th>4</th>\n",
       "      <td>CNC-0005</td>\n",
       "      <td>Davide Drago</td>\n",
       "      <td>/catastici/Catastici-436/10/1393.tif</td>\n",
       "      <td>PPL</td>\n",
       "      <td>1</td>\n",
       "      <td>Private</td>\n",
       "      <td>Agostin Filippi di Vicenza</td>\n",
       "      <td>Stefano Ratti</td>\n",
       "      <td>casa e bottega da tentor</td>\n",
       "      <td>70</td>\n",
       "      <td>...</td>\n",
       "      <td>FABRIC_CRAFT</td>\n",
       "      <td></td>\n",
       "      <td>None</td>\n",
       "      <td>Agostin</td>\n",
       "      <td>FILIPPI</td>\n",
       "      <td></td>\n",
       "      <td>PERSON</td>\n",
       "      <td>POINT (291824.083 5035303.564)</td>\n",
       "      <td>2342</td>\n",
       "      <td>2740</td>\n",
       "    </tr>\n",
       "    <tr>\n",
       "      <th>...</th>\n",
       "      <td>...</td>\n",
       "      <td>...</td>\n",
       "      <td>...</td>\n",
       "      <td>...</td>\n",
       "      <td>...</td>\n",
       "      <td>...</td>\n",
       "      <td>...</td>\n",
       "      <td>...</td>\n",
       "      <td>...</td>\n",
       "      <td>...</td>\n",
       "      <td>...</td>\n",
       "      <td>...</td>\n",
       "      <td>...</td>\n",
       "      <td>...</td>\n",
       "      <td>...</td>\n",
       "      <td>...</td>\n",
       "      <td>...</td>\n",
       "      <td>...</td>\n",
       "      <td>...</td>\n",
       "      <td>...</td>\n",
       "      <td>...</td>\n",
       "    </tr>\n",
       "    <tr>\n",
       "      <th>32671</th>\n",
       "      <td>APO-0415</td>\n",
       "      <td>Davide Drago</td>\n",
       "      <td>/catastici/Catastici-437/6/0736.tif</td>\n",
       "      <td>PPL</td>\n",
       "      <td>1</td>\n",
       "      <td>Private</td>\n",
       "      <td>Girolamo Giacomini</td>\n",
       "      <td>nan</td>\n",
       "      <td>abitazione di propria proprietà</td>\n",
       "      <td>nan</td>\n",
       "      <td>...</td>\n",
       "      <td>None</td>\n",
       "      <td></td>\n",
       "      <td>None</td>\n",
       "      <td>Girolamo</td>\n",
       "      <td>GIACOMINI</td>\n",
       "      <td></td>\n",
       "      <td>PERSON</td>\n",
       "      <td>POINT (291255.085 5035063.179)</td>\n",
       "      <td>2582</td>\n",
       "      <td>2171</td>\n",
       "    </tr>\n",
       "    <tr>\n",
       "      <th>32672</th>\n",
       "      <td>APO-0416</td>\n",
       "      <td>Davide Drago</td>\n",
       "      <td>/catastici/Catastici-437/6/0736.tif</td>\n",
       "      <td>PPL</td>\n",
       "      <td>1</td>\n",
       "      <td>Private</td>\n",
       "      <td>Giannantonio Bonicelli</td>\n",
       "      <td>nan</td>\n",
       "      <td>abitazione di propria proprietà</td>\n",
       "      <td>nan</td>\n",
       "      <td>...</td>\n",
       "      <td>None</td>\n",
       "      <td></td>\n",
       "      <td>None</td>\n",
       "      <td>Giannantonio</td>\n",
       "      <td>BONICELLI</td>\n",
       "      <td></td>\n",
       "      <td>PERSON</td>\n",
       "      <td>POINT (291243.71 5035150.776)</td>\n",
       "      <td>2495</td>\n",
       "      <td>2159</td>\n",
       "    </tr>\n",
       "    <tr>\n",
       "      <th>32673</th>\n",
       "      <td>APO-0417</td>\n",
       "      <td>Davide Drago</td>\n",
       "      <td>/catastici/Catastici-437/6/0736.tif</td>\n",
       "      <td>PPL</td>\n",
       "      <td>1</td>\n",
       "      <td>Private</td>\n",
       "      <td>Ferdinando Crivelli</td>\n",
       "      <td>nan</td>\n",
       "      <td>abitazione di propria proprietà</td>\n",
       "      <td>nan</td>\n",
       "      <td>...</td>\n",
       "      <td>None</td>\n",
       "      <td></td>\n",
       "      <td>None</td>\n",
       "      <td>Ferdinando</td>\n",
       "      <td>CRIVELLI</td>\n",
       "      <td></td>\n",
       "      <td>PERSON</td>\n",
       "      <td>POINT (291287.848 5035146.617)</td>\n",
       "      <td>2499</td>\n",
       "      <td>2203</td>\n",
       "    </tr>\n",
       "    <tr>\n",
       "      <th>32674</th>\n",
       "      <td>APO-0418</td>\n",
       "      <td>Davide Drago</td>\n",
       "      <td>/catastici/Catastici-437/6/0736.tif</td>\n",
       "      <td>PPL</td>\n",
       "      <td>1</td>\n",
       "      <td>Private</td>\n",
       "      <td>Bortolo Bernardi</td>\n",
       "      <td>nan</td>\n",
       "      <td>abitazione di propria proprietà</td>\n",
       "      <td>nan</td>\n",
       "      <td>...</td>\n",
       "      <td>None</td>\n",
       "      <td></td>\n",
       "      <td>None</td>\n",
       "      <td>Bortolo</td>\n",
       "      <td>BERNARDI</td>\n",
       "      <td></td>\n",
       "      <td>PERSON</td>\n",
       "      <td>POINT (291280.549 5035138.808)</td>\n",
       "      <td>2507</td>\n",
       "      <td>2196</td>\n",
       "    </tr>\n",
       "    <tr>\n",
       "      <th>32675</th>\n",
       "      <td>APO-0419</td>\n",
       "      <td>Davide Drago</td>\n",
       "      <td>/catastici/Catastici-437/6/0736.tif</td>\n",
       "      <td>PPL</td>\n",
       "      <td>1</td>\n",
       "      <td>Private</td>\n",
       "      <td>Giacomo Tortello</td>\n",
       "      <td>nan</td>\n",
       "      <td>abitazione di propria proprietà</td>\n",
       "      <td>nan</td>\n",
       "      <td>...</td>\n",
       "      <td>None</td>\n",
       "      <td></td>\n",
       "      <td>None</td>\n",
       "      <td>Giacomo</td>\n",
       "      <td>TORTELLO</td>\n",
       "      <td></td>\n",
       "      <td>PERSON</td>\n",
       "      <td>POINT (291258.649 5035155.614)</td>\n",
       "      <td>2490</td>\n",
       "      <td>2174</td>\n",
       "    </tr>\n",
       "  </tbody>\n",
       "</table>\n",
       "<p>32676 rows × 33 columns</p>\n",
       "</div>"
      ],
      "text/plain": [
       "            uid        author                          tif_path_img  \\\n",
       "0      CNC-0001  Davide Drago  /catastici/Catastici-436/10/1393.tif   \n",
       "1      CNC-0002  Davide Drago  /catastici/Catastici-436/10/1393.tif   \n",
       "2      CNC-0003  Davide Drago  /catastici/Catastici-436/10/1393.tif   \n",
       "3      CNC-0004  Davide Drago  /catastici/Catastici-436/10/1393.tif   \n",
       "4      CNC-0005  Davide Drago  /catastici/Catastici-436/10/1393.tif   \n",
       "...         ...           ...                                   ...   \n",
       "32671  APO-0415  Davide Drago   /catastici/Catastici-437/6/0736.tif   \n",
       "32672  APO-0416  Davide Drago   /catastici/Catastici-437/6/0736.tif   \n",
       "32673  APO-0417  Davide Drago   /catastici/Catastici-437/6/0736.tif   \n",
       "32674  APO-0418  Davide Drago   /catastici/Catastici-437/6/0736.tif   \n",
       "32675  APO-0419  Davide Drago   /catastici/Catastici-437/6/0736.tif   \n",
       "\n",
       "        owner_code owner_count PP_OwnerCode_SIMPL  \\\n",
       "0              PPL           1            Private   \n",
       "1              PPL           1            Private   \n",
       "2      ent_REL_TTL           1   Religious entity   \n",
       "3              PPL           1            Private   \n",
       "4              PPL           1            Private   \n",
       "...            ...         ...                ...   \n",
       "32671          PPL           1            Private   \n",
       "32672          PPL           1            Private   \n",
       "32673          PPL           1            Private   \n",
       "32674          PPL           1            Private   \n",
       "32675          PPL           1            Private   \n",
       "\n",
       "                                              owner_name            ten_name  \\\n",
       "0      Liberal Campi secondo prete titolato della Chiesa      Francesco Zeni   \n",
       "1        Filippo Frari terzo prete titolato della Chiesa  Dio M'aiuti Lazara   \n",
       "2                                  Pievan di San Cancian   Bortolamio Piazza   \n",
       "3        Filippo Frari terzo prete titolato della Chiesa   Bortolamio Piazza   \n",
       "4                             Agostin Filippi di Vicenza       Stefano Ratti   \n",
       "...                                                  ...                 ...   \n",
       "32671                                 Girolamo Giacomini                 nan   \n",
       "32672                             Giannantonio Bonicelli                 nan   \n",
       "32673                                Ferdinando Crivelli                 nan   \n",
       "32674                                   Bortolo Bernardi                 nan   \n",
       "32675                                   Giacomo Tortello                 nan   \n",
       "\n",
       "                              function an_rendi  ... PP_Bottega_METACATEGORY  \\\n",
       "0            casa e bottega da barbier       70  ...           HEALTH_BEAUTY   \n",
       "1                                 casa       60  ...                    None   \n",
       "2                bottega da strazariol       14  ...       COMMERCE_CLOTHING   \n",
       "3                bottega da strazariol        4  ...       COMMERCE_CLOTHING   \n",
       "4             casa e bottega da tentor       70  ...            FABRIC_CRAFT   \n",
       "...                                ...      ...  ...                     ...   \n",
       "32671  abitazione di propria proprietà      nan  ...                    None   \n",
       "32672  abitazione di propria proprietà      nan  ...                    None   \n",
       "32673  abitazione di propria proprietà      nan  ...                    None   \n",
       "32674  abitazione di propria proprietà      nan  ...                    None   \n",
       "32675  abitazione di propria proprietà      nan  ...                    None   \n",
       "\n",
       "      PP_Owner_Title         PP_Owner_Entity PP_Owner_FirstName  \\\n",
       "0      SECONDO PRETE                    None            Liberal   \n",
       "1        TERZO PRETE                    None            Filippo   \n",
       "2            PIEVANO  CHIESA DI SAN CANCIANO               None   \n",
       "3        TERZO PRETE                    None            Filippo   \n",
       "4                                       None            Agostin   \n",
       "...              ...                     ...                ...   \n",
       "32671                                   None           Girolamo   \n",
       "32672                                   None       Giannantonio   \n",
       "32673                                   None         Ferdinando   \n",
       "32674                                   None            Bortolo   \n",
       "32675                                   None            Giacomo   \n",
       "\n",
       "      PP_Owner_LastName owner_mestiere_std PP_Owner_Notes  \\\n",
       "0                 CAMPI                            PERSON   \n",
       "1                 FRARI                            PERSON   \n",
       "2                  None                            ENTITY   \n",
       "3                 FRARI                            PERSON   \n",
       "4               FILIPPI                            PERSON   \n",
       "...                 ...                ...            ...   \n",
       "32671         GIACOMINI                            PERSON   \n",
       "32672         BONICELLI                            PERSON   \n",
       "32673          CRIVELLI                            PERSON   \n",
       "32674          BERNARDI                            PERSON   \n",
       "32675          TORTELLO                            PERSON   \n",
       "\n",
       "                             geometry   row   col  \n",
       "0      POINT (291832.846 5035321.328)  2324  2748  \n",
       "1      POINT (291841.531 5035307.749)  2338  2757  \n",
       "2      POINT (291845.478 5035313.512)  2332  2761  \n",
       "3      POINT (291846.426 5035312.091)  2333  2762  \n",
       "4      POINT (291824.083 5035303.564)  2342  2740  \n",
       "...                               ...   ...   ...  \n",
       "32671  POINT (291255.085 5035063.179)  2582  2171  \n",
       "32672   POINT (291243.71 5035150.776)  2495  2159  \n",
       "32673  POINT (291287.848 5035146.617)  2499  2203  \n",
       "32674  POINT (291280.549 5035138.808)  2507  2196  \n",
       "32675  POINT (291258.649 5035155.614)  2490  2174  \n",
       "\n",
       "[32676 rows x 33 columns]"
      ]
     },
     "execution_count": 17,
     "metadata": {},
     "output_type": "execute_result"
    }
   ],
   "source": [
    "poi_gdf"
   ]
  },
  {
   "cell_type": "code",
   "execution_count": 18,
   "id": "0c97ad78",
   "metadata": {},
   "outputs": [
    {
     "data": {
      "text/plain": [
       "Index(['uid', 'author', 'tif_path_img', 'owner_code', 'owner_count',\n",
       "       'PP_OwnerCode_SIMPL', 'owner_name', 'ten_name', 'function', 'an_rendi',\n",
       "       'id_napo', 'quantity_income', 'quality_income', 'place', 'parish_std',\n",
       "       'sestiere', 'PP_Function_TOP', 'PP_Function_MID',\n",
       "       'PP_Function_PROPERTY', 'PP_Function_GEOMETRY', 'PP_Bottega_STD',\n",
       "       'PP_Bottega_COUNT', 'PP_Bottega_TRAD', 'PP_Bottega_METACATEGORY',\n",
       "       'PP_Owner_Title', 'PP_Owner_Entity', 'PP_Owner_FirstName',\n",
       "       'PP_Owner_LastName', 'owner_mestiere_std', 'PP_Owner_Notes', 'geometry',\n",
       "       'row', 'col'],\n",
       "      dtype='object')"
      ]
     },
     "execution_count": 18,
     "metadata": {},
     "output_type": "execute_result"
    }
   ],
   "source": [
    "poi_gdf.columns"
   ]
  },
  {
   "cell_type": "code",
   "execution_count": 19,
   "id": "d7c567cf",
   "metadata": {},
   "outputs": [
    {
     "data": {
      "text/plain": [
       "ten_name\n",
       "nan                 2981\n",
       "Antonio Rossi         22\n",
       "Antonio Calvi         18\n",
       "Francesco Rossi       17\n",
       "Bortolo Usabelli      16\n",
       "                    ... \n",
       "Iseppo Biffon          1\n",
       "Domenico Garbato       1\n",
       "Pietro Violi           1\n",
       "Zuanne Zulian          1\n",
       "Maria Capellani        1\n",
       "Name: count, Length: 23985, dtype: int64"
      ]
     },
     "execution_count": 19,
     "metadata": {},
     "output_type": "execute_result"
    }
   ],
   "source": [
    "poi_gdf.ten_name.value_counts()"
   ]
  },
  {
   "cell_type": "code",
   "execution_count": 20,
   "id": "2b4a29f3",
   "metadata": {},
   "outputs": [],
   "source": [
    "mixed_pois = poi_gdf[poi_gdf['PP_Function_TOP'] == \"MIXED\"]"
   ]
  },
  {
   "cell_type": "code",
   "execution_count": 21,
   "id": "befec154",
   "metadata": {},
   "outputs": [
    {
     "data": {
      "text/plain": [
       "PP_OwnerCode_SIMPL\n",
       "Private                  2997\n",
       "Religious entity          334\n",
       "Scuola                    110\n",
       "Other                      54\n",
       "Social institution         36\n",
       "Unknown                    32\n",
       "Repubblica di Venezia       9\n",
       "Name: count, dtype: int64"
      ]
     },
     "execution_count": 21,
     "metadata": {},
     "output_type": "execute_result"
    }
   ],
   "source": [
    "mixed_pois.PP_OwnerCode_SIMPL.value_counts()"
   ]
  },
  {
   "cell_type": "code",
   "execution_count": 22,
   "id": "5c61812e",
   "metadata": {},
   "outputs": [],
   "source": [
    "color_map = {\n",
    "    \"CASA\":        (213,  94,   0),   # burnt orange\n",
    "    \"MIXED\":       (  0, 158, 115),   # teal green\n",
    "    \"BOTTEGA\":     (230, 159,   0),   # golden yellow\n",
    "    \"MAGAZZINO\":   ( 86, 180, 233),   # sky blue\n",
    "    \"TRAGHETTO\":   (  0, 114, 178),   # deep blue\n",
    "    \"INVIAMENTO\":  (240, 228,  66),   # bright yellow\n",
    "    \"OTHER\":       (204, 121, 167),   # mauve pink\n",
    "}"
   ]
  },
  {
   "cell_type": "code",
   "execution_count": 23,
   "id": "ce1bb581",
   "metadata": {},
   "outputs": [],
   "source": [
    "img = grid_with_pois_image(\n",
    "    grid, tr, poi_gdf,\n",
    "    scale=5,\n",
    "    color_map=color_map,      # or leave None for auto colors\n",
    ")\n",
    "img.save(\"venice_2024_pois_by_function.png\")"
   ]
  },
  {
   "cell_type": "markdown",
   "id": "00156062",
   "metadata": {},
   "source": [
    "# Sommarioni Example"
   ]
  },
  {
   "cell_type": "code",
   "execution_count": 24,
   "id": "47f8f408",
   "metadata": {},
   "outputs": [],
   "source": [
    "sommarioni_gdf = gpd.read_file('../data/1808-sommarioni/venice_1808_landregister_geometries.geojson')"
   ]
  },
  {
   "cell_type": "code",
   "execution_count": 25,
   "id": "25cc2346",
   "metadata": {},
   "outputs": [
    {
     "data": {
      "text/plain": [
       "Index(['id', 'parcel_number', 'geometry_type', 'geometry_id',\n",
       "       'parish_standardised', 'area', 'geometry'],\n",
       "      dtype='object')"
      ]
     },
     "execution_count": 25,
     "metadata": {},
     "output_type": "execute_result"
    }
   ],
   "source": [
    "sommarioni_gdf.columns"
   ]
  },
  {
   "cell_type": "code",
   "execution_count": 26,
   "id": "0033b034",
   "metadata": {},
   "outputs": [],
   "source": [
    "smg_tr_3857 = sommarioni_gdf.to_crs(\"EPSG:3857\")"
   ]
  },
  {
   "cell_type": "code",
   "execution_count": 27,
   "id": "2c433a89",
   "metadata": {},
   "outputs": [],
   "source": [
    "# sommarioni_layers.py\n",
    "\"\"\"\n",
    "End-to-end utilities for 1808 Venice land‐register data.\n",
    "\n",
    "Dependencies\n",
    "------------\n",
    "geopandas, rasterio, shapely, numpy\n",
    "plus the earlier grid helpers:\n",
    "    • gdfs_to_grid (gridify.py)\n",
    "    • add_courtyards_fast (optional, gridify.py)\n",
    "\n",
    "State codes used in the resulting grid\n",
    "--------------------------------------\n",
    "0 ocean/background\n",
    "1 street\n",
    "2 building (incl. sottoportico)\n",
    "3 canal / lagoon\n",
    "4 courtyard (manual polygons first, algorithmic fill-ins optional)\n",
    "\"\"\"\n",
    "\n",
    "from __future__ import annotations\n",
    "import geopandas as gpd\n",
    "import numpy as np\n",
    "from affine import Affine\n",
    "from rasterio import features\n",
    "\n",
    "\n",
    "def load_venice_layers(\n",
    "    json_path: str,\n",
    "    target_crs: int | str = 32633,\n",
    ") -> tuple[gpd.GeoDataFrame, gpd.GeoDataFrame,\n",
    "           gpd.GeoDataFrame, gpd.GeoDataFrame]:\n",
    "    \"\"\"\n",
    "    Read the 1808 GeoJSON and return four GeoDataFrames:\n",
    "        buildings_gdf, streets_gdf, canals_gdf, courtyards_gdf\n",
    "    All re-projected to *target_crs* (EPSG:3857 metres by default).\n",
    "    \"\"\"\n",
    "    gdf = gpd.read_file(json_path)\n",
    "    if target_crs:\n",
    "        gdf = gdf.to_crs(target_crs)\n",
    "\n",
    "    buildings = gdf[gdf[\"geometry_type\"] == 'building'].copy()\n",
    "    streets   = gdf[gdf[\"geometry_type\"].isin([\"street\", \"sottoportico\"])].copy()\n",
    "    canals    = gdf[gdf[\"geometry_type\"] == \"water\"].copy()\n",
    "    courtyards = gdf[gdf[\"geometry_type\"] == \"courtyard\"].copy()\n",
    "\n",
    "    # occasionally sottoportici are MultiPolygons: explode for cleaner raster\n",
    "    buildings = buildings.explode(index_parts=False)\n",
    "\n",
    "    return buildings, streets, canals, courtyards\n",
    "\n",
    "\n",
    "def venice_grid(\n",
    "    json_path: str,\n",
    "    cell_size: float = 1.0,\n",
    "    target_crs: int | str = 32633,\n",
    "    *,\n",
    "    include_auto_courtyards: bool = True,\n",
    "):\n",
    "    \"\"\"\n",
    "    Build a uint8 grid from the 1808 land-register GeoJSON.\n",
    "\n",
    "    Returns\n",
    "    -------\n",
    "    grid : np.ndarray  (rows, cols)\n",
    "    transform : affine.Affine\n",
    "    legend : dict[int, str]\n",
    "    layers : dict[str, gpd.GeoDataFrame]\n",
    "        {\"buildings\":…, \"streets\":…, \"canals\":…, \"courtyards\":…}\n",
    "    \"\"\"\n",
    "    buildings, streets, canals, courtyards = load_venice_layers(\n",
    "        json_path, target_crs\n",
    "    )\n",
    "\n",
    "    grid, transform, legend = gdfs_to_grid(\n",
    "        buildings, streets, canals=canals, cell_size=cell_size\n",
    "    )\n",
    "\n",
    "    # --- manual courtyards (parcel_type == 'courtyard') ---------------------\n",
    "    _burn_polygons_to_grid(\n",
    "        courtyards.geometry, grid, transform, value=4\n",
    "    )\n",
    "    legend[4] = \"courtyard\"\n",
    "\n",
    "    # --- optional algorithmic flood-fill of *remaining* interior empties ----\n",
    "    if include_auto_courtyards:\n",
    "        add_courtyards_fast(grid)        # only touches empty pockets\n",
    "\n",
    "    layers = {\n",
    "        \"buildings\": buildings,\n",
    "        \"streets\": streets,\n",
    "        \"canals\": canals,\n",
    "        \"courtyards\": courtyards,\n",
    "    }\n",
    "    return grid, transform, legend, layers\n",
    "\n",
    "\n",
    "# ----- internal utility -----------------------------------------------------\n",
    "\n",
    "def _burn_polygons_to_grid(\n",
    "    geoms,\n",
    "    grid: np.ndarray,\n",
    "    transform: Affine,\n",
    "    *,\n",
    "    value: int,\n",
    "):\n",
    "    \"\"\"\n",
    "    Rasterise a set of polygons INTO an existing uint8 grid (in-place).\n",
    "    \"\"\"\n",
    "    shapes = ((geom, value) for geom in geoms if not geom.is_empty)\n",
    "    features.rasterize(\n",
    "        shapes=shapes,\n",
    "        out=grid,\n",
    "        transform=transform,\n",
    "        all_touched=True,\n",
    "        default_value=value,\n",
    "    )\n"
   ]
  },
  {
   "cell_type": "code",
   "execution_count": 28,
   "id": "e4583e6f",
   "metadata": {},
   "outputs": [
    {
     "name": "stdout",
     "output_type": "stream",
     "text": [
      "{0: 'ocean', 1: 'street', 2: 'building', 3: 'canal', 4: 'courtyard'}\n"
     ]
    }
   ],
   "source": [
    "GRID_JSON = \"../data/1808-sommarioni/venice_1808_landregister_geometries.geojson\"\n",
    "\n",
    "grid, tr, legend, layers = venice_grid(\n",
    "    GRID_JSON,\n",
    "    cell_size=1,              # 1-metre resolution\n",
    "    include_auto_courtyards=True,\n",
    ")\n",
    "\n",
    "print(legend)\n",
    "# {'ocean':0, 'street':1, 'building':2, 'canal':3, 'courtyard':4}\n",
    "save_grid_image(grid, \"city_sommarioni_1x.png\", scale=1)\n",
    "\n",
    "# optional: overlay POIs, color-map defined earlier\n",
    "# img = grid_with_pois_image(grid, tr, poi_gdf, scale=5, color_map=color_map)\n",
    "# img.save(\"venice_full_5x.png\")"
   ]
  },
  {
   "cell_type": "code",
   "execution_count": 29,
   "id": "72129831",
   "metadata": {},
   "outputs": [
    {
     "data": {
      "text/plain": [
       "array([[0, 0, 0, ..., 0, 0, 0],\n",
       "       [0, 0, 0, ..., 0, 0, 0],\n",
       "       [0, 0, 0, ..., 0, 0, 0],\n",
       "       ...,\n",
       "       [0, 0, 0, ..., 0, 0, 0],\n",
       "       [0, 0, 0, ..., 0, 0, 0],\n",
       "       [0, 0, 0, ..., 0, 0, 0]], shape=(3180, 4994), dtype=uint8)"
      ]
     },
     "execution_count": 29,
     "metadata": {},
     "output_type": "execute_result"
    }
   ],
   "source": [
    "grid"
   ]
  },
  {
   "cell_type": "code",
   "execution_count": 30,
   "id": "9ce2f505",
   "metadata": {},
   "outputs": [
    {
     "data": {
      "text/plain": [
       "<Projected CRS: EPSG:32633>\n",
       "Name: WGS 84 / UTM zone 33N\n",
       "Axis Info [cartesian]:\n",
       "- E[east]: Easting (metre)\n",
       "- N[north]: Northing (metre)\n",
       "Area of Use:\n",
       "- name: Between 12°E and 18°E, northern hemisphere between equator and 84°N, onshore and offshore. Austria. Bosnia and Herzegovina. Cameroon. Central African Republic. Chad. Congo. Croatia. Czechia. Democratic Republic of the Congo (Zaire). Gabon. Germany. Hungary. Italy. Libya. Malta. Niger. Nigeria. Norway. Poland. San Marino. Slovakia. Slovenia. Svalbard. Sweden. Vatican City State.\n",
       "- bounds: (12.0, 0.0, 18.0, 84.0)\n",
       "Coordinate Operation:\n",
       "- name: UTM zone 33N\n",
       "- method: Transverse Mercator\n",
       "Datum: World Geodetic System 1984 ensemble\n",
       "- Ellipsoid: WGS 84\n",
       "- Prime Meridian: Greenwich"
      ]
     },
     "execution_count": 30,
     "metadata": {},
     "output_type": "execute_result"
    }
   ],
   "source": [
    "catastaci_1740.crs"
   ]
  },
  {
   "cell_type": "code",
   "execution_count": 31,
   "id": "a7e58574",
   "metadata": {},
   "outputs": [
    {
     "data": {
      "text/plain": [
       "Affine(1.0, 0.0, 289316.0,\n",
       "       0.0, -1.0, 5036666.0)"
      ]
     },
     "execution_count": 31,
     "metadata": {},
     "output_type": "execute_result"
    }
   ],
   "source": [
    "tr"
   ]
  },
  {
   "cell_type": "code",
   "execution_count": 32,
   "id": "1d241551",
   "metadata": {},
   "outputs": [
    {
     "name": "stdout",
     "output_type": "stream",
     "text": [
      "32676 POIs landed inside the grid\n"
     ]
    }
   ],
   "source": [
    "grid, tr, legend, layers = venice_grid(GRID_JSON,\n",
    "                                       cell_size=1, target_crs=32633)\n",
    "\n",
    "poi_gdf = pois_to_grid_coords(catastaci_1740.to_crs(32633), tr, grid.shape)  # now keeps its rows\n",
    "print(len(poi_gdf), \"POIs landed inside the grid\")\n"
   ]
  },
  {
   "cell_type": "code",
   "execution_count": 33,
   "id": "bd716e0f",
   "metadata": {},
   "outputs": [
    {
     "data": {
      "text/plain": [
       "<Projected CRS: EPSG:32633>\n",
       "Name: WGS 84 / UTM zone 33N\n",
       "Axis Info [cartesian]:\n",
       "- E[east]: Easting (metre)\n",
       "- N[north]: Northing (metre)\n",
       "Area of Use:\n",
       "- name: Between 12°E and 18°E, northern hemisphere between equator and 84°N, onshore and offshore. Austria. Bosnia and Herzegovina. Cameroon. Central African Republic. Chad. Congo. Croatia. Czechia. Democratic Republic of the Congo (Zaire). Gabon. Germany. Hungary. Italy. Libya. Malta. Niger. Nigeria. Norway. Poland. San Marino. Slovakia. Slovenia. Svalbard. Sweden. Vatican City State.\n",
       "- bounds: (12.0, 0.0, 18.0, 84.0)\n",
       "Coordinate Operation:\n",
       "- name: UTM zone 33N\n",
       "- method: Transverse Mercator\n",
       "Datum: World Geodetic System 1984 ensemble\n",
       "- Ellipsoid: WGS 84\n",
       "- Prime Meridian: Greenwich"
      ]
     },
     "execution_count": 33,
     "metadata": {},
     "output_type": "execute_result"
    }
   ],
   "source": [
    "poi_gdf.crs"
   ]
  },
  {
   "cell_type": "code",
   "execution_count": 34,
   "id": "5d93731d",
   "metadata": {},
   "outputs": [
    {
     "ename": "KeyboardInterrupt",
     "evalue": "",
     "output_type": "error",
     "traceback": [
      "\u001b[31m---------------------------------------------------------------------------\u001b[39m",
      "\u001b[31mAttributeError\u001b[39m                            Traceback (most recent call last)",
      "\u001b[36mFile \u001b[39m\u001b[32m~/.pyenv/versions/venice-data-week/lib/python3.11/site-packages/PIL/ImageFile.py:643\u001b[39m, in \u001b[36m_save\u001b[39m\u001b[34m(im, fp, tile, bufsize)\u001b[39m\n\u001b[32m    642\u001b[39m \u001b[38;5;28;01mtry\u001b[39;00m:\n\u001b[32m--> \u001b[39m\u001b[32m643\u001b[39m     fh = \u001b[43mfp\u001b[49m\u001b[43m.\u001b[49m\u001b[43mfileno\u001b[49m()\n\u001b[32m    644\u001b[39m     fp.flush()\n",
      "\u001b[31mAttributeError\u001b[39m: '_idat' object has no attribute 'fileno'",
      "\nDuring handling of the above exception, another exception occurred:\n",
      "\u001b[31mKeyboardInterrupt\u001b[39m                         Traceback (most recent call last)",
      "\u001b[36mCell\u001b[39m\u001b[36m \u001b[39m\u001b[32mIn[34]\u001b[39m\u001b[32m, line 3\u001b[39m\n\u001b[32m      1\u001b[39m \u001b[38;5;66;03m# optional: overlay POIs, color-map defined earlier\u001b[39;00m\n\u001b[32m      2\u001b[39m img = grid_with_pois_image(grid, tr, poi_gdf, scale=\u001b[32m5\u001b[39m, color_map=color_map)\n\u001b[32m----> \u001b[39m\u001b[32m3\u001b[39m \u001b[43mimg\u001b[49m\u001b[43m.\u001b[49m\u001b[43msave\u001b[49m\u001b[43m(\u001b[49m\u001b[33;43m\"\u001b[39;49m\u001b[33;43mvenice_sommarioni_5x.png\u001b[39;49m\u001b[33;43m\"\u001b[39;49m\u001b[43m)\u001b[49m\n",
      "\u001b[36mFile \u001b[39m\u001b[32m~/.pyenv/versions/venice-data-week/lib/python3.11/site-packages/PIL/Image.py:2581\u001b[39m, in \u001b[36mImage.save\u001b[39m\u001b[34m(self, fp, format, **params)\u001b[39m\n\u001b[32m   2578\u001b[39m     fp = cast(IO[\u001b[38;5;28mbytes\u001b[39m], fp)\n\u001b[32m   2580\u001b[39m \u001b[38;5;28;01mtry\u001b[39;00m:\n\u001b[32m-> \u001b[39m\u001b[32m2581\u001b[39m     \u001b[43msave_handler\u001b[49m\u001b[43m(\u001b[49m\u001b[38;5;28;43mself\u001b[39;49m\u001b[43m,\u001b[49m\u001b[43m \u001b[49m\u001b[43mfp\u001b[49m\u001b[43m,\u001b[49m\u001b[43m \u001b[49m\u001b[43mfilename\u001b[49m\u001b[43m)\u001b[49m\n\u001b[32m   2582\u001b[39m \u001b[38;5;28;01mexcept\u001b[39;00m \u001b[38;5;167;01mException\u001b[39;00m:\n\u001b[32m   2583\u001b[39m     \u001b[38;5;28;01mif\u001b[39;00m open_fp:\n",
      "\u001b[36mFile \u001b[39m\u001b[32m~/.pyenv/versions/venice-data-week/lib/python3.11/site-packages/PIL/PngImagePlugin.py:1492\u001b[39m, in \u001b[36m_save\u001b[39m\u001b[34m(im, fp, filename, chunk, save_all)\u001b[39m\n\u001b[32m   1488\u001b[39m     single_im = _write_multiple_frames(\n\u001b[32m   1489\u001b[39m         im, fp, chunk, mode, rawmode, default_image, append_images\n\u001b[32m   1490\u001b[39m     )\n\u001b[32m   1491\u001b[39m \u001b[38;5;28;01mif\u001b[39;00m single_im:\n\u001b[32m-> \u001b[39m\u001b[32m1492\u001b[39m     \u001b[43mImageFile\u001b[49m\u001b[43m.\u001b[49m\u001b[43m_save\u001b[49m\u001b[43m(\u001b[49m\n\u001b[32m   1493\u001b[39m \u001b[43m        \u001b[49m\u001b[43msingle_im\u001b[49m\u001b[43m,\u001b[49m\n\u001b[32m   1494\u001b[39m \u001b[43m        \u001b[49m\u001b[43mcast\u001b[49m\u001b[43m(\u001b[49m\u001b[43mIO\u001b[49m\u001b[43m[\u001b[49m\u001b[38;5;28;43mbytes\u001b[39;49m\u001b[43m]\u001b[49m\u001b[43m,\u001b[49m\u001b[43m \u001b[49m\u001b[43m_idat\u001b[49m\u001b[43m(\u001b[49m\u001b[43mfp\u001b[49m\u001b[43m,\u001b[49m\u001b[43m \u001b[49m\u001b[43mchunk\u001b[49m\u001b[43m)\u001b[49m\u001b[43m)\u001b[49m\u001b[43m,\u001b[49m\n\u001b[32m   1495\u001b[39m \u001b[43m        \u001b[49m\u001b[43m[\u001b[49m\u001b[43mImageFile\u001b[49m\u001b[43m.\u001b[49m\u001b[43m_Tile\u001b[49m\u001b[43m(\u001b[49m\u001b[33;43m\"\u001b[39;49m\u001b[33;43mzip\u001b[39;49m\u001b[33;43m\"\u001b[39;49m\u001b[43m,\u001b[49m\u001b[43m \u001b[49m\u001b[43m(\u001b[49m\u001b[32;43m0\u001b[39;49m\u001b[43m,\u001b[49m\u001b[43m \u001b[49m\u001b[32;43m0\u001b[39;49m\u001b[43m)\u001b[49m\u001b[43m \u001b[49m\u001b[43m+\u001b[49m\u001b[43m \u001b[49m\u001b[43msingle_im\u001b[49m\u001b[43m.\u001b[49m\u001b[43msize\u001b[49m\u001b[43m,\u001b[49m\u001b[43m \u001b[49m\u001b[32;43m0\u001b[39;49m\u001b[43m,\u001b[49m\u001b[43m \u001b[49m\u001b[43mrawmode\u001b[49m\u001b[43m)\u001b[49m\u001b[43m]\u001b[49m\u001b[43m,\u001b[49m\n\u001b[32m   1496\u001b[39m \u001b[43m    \u001b[49m\u001b[43m)\u001b[49m\n\u001b[32m   1498\u001b[39m \u001b[38;5;28;01mif\u001b[39;00m info:\n\u001b[32m   1499\u001b[39m     \u001b[38;5;28;01mfor\u001b[39;00m info_chunk \u001b[38;5;129;01min\u001b[39;00m info.chunks:\n",
      "\u001b[36mFile \u001b[39m\u001b[32m~/.pyenv/versions/venice-data-week/lib/python3.11/site-packages/PIL/ImageFile.py:647\u001b[39m, in \u001b[36m_save\u001b[39m\u001b[34m(im, fp, tile, bufsize)\u001b[39m\n\u001b[32m    645\u001b[39m     _encode_tile(im, fp, tile, bufsize, fh)\n\u001b[32m    646\u001b[39m \u001b[38;5;28;01mexcept\u001b[39;00m (\u001b[38;5;167;01mAttributeError\u001b[39;00m, io.UnsupportedOperation) \u001b[38;5;28;01mas\u001b[39;00m exc:\n\u001b[32m--> \u001b[39m\u001b[32m647\u001b[39m     \u001b[43m_encode_tile\u001b[49m\u001b[43m(\u001b[49m\u001b[43mim\u001b[49m\u001b[43m,\u001b[49m\u001b[43m \u001b[49m\u001b[43mfp\u001b[49m\u001b[43m,\u001b[49m\u001b[43m \u001b[49m\u001b[43mtile\u001b[49m\u001b[43m,\u001b[49m\u001b[43m \u001b[49m\u001b[43mbufsize\u001b[49m\u001b[43m,\u001b[49m\u001b[43m \u001b[49m\u001b[38;5;28;43;01mNone\u001b[39;49;00m\u001b[43m,\u001b[49m\u001b[43m \u001b[49m\u001b[43mexc\u001b[49m\u001b[43m)\u001b[49m\n\u001b[32m    648\u001b[39m \u001b[38;5;28;01mif\u001b[39;00m \u001b[38;5;28mhasattr\u001b[39m(fp, \u001b[33m\"\u001b[39m\u001b[33mflush\u001b[39m\u001b[33m\"\u001b[39m):\n\u001b[32m    649\u001b[39m     fp.flush()\n",
      "\u001b[36mFile \u001b[39m\u001b[32m~/.pyenv/versions/venice-data-week/lib/python3.11/site-packages/PIL/ImageFile.py:673\u001b[39m, in \u001b[36m_encode_tile\u001b[39m\u001b[34m(im, fp, tile, bufsize, fh, exc)\u001b[39m\n\u001b[32m    670\u001b[39m \u001b[38;5;28;01mif\u001b[39;00m exc:\n\u001b[32m    671\u001b[39m     \u001b[38;5;66;03m# compress to Python file-compatible object\u001b[39;00m\n\u001b[32m    672\u001b[39m     \u001b[38;5;28;01mwhile\u001b[39;00m \u001b[38;5;28;01mTrue\u001b[39;00m:\n\u001b[32m--> \u001b[39m\u001b[32m673\u001b[39m         errcode, data = \u001b[43mencoder\u001b[49m\u001b[43m.\u001b[49m\u001b[43mencode\u001b[49m\u001b[43m(\u001b[49m\u001b[43mbufsize\u001b[49m\u001b[43m)\u001b[49m[\u001b[32m1\u001b[39m:]\n\u001b[32m    674\u001b[39m         fp.write(data)\n\u001b[32m    675\u001b[39m         \u001b[38;5;28;01mif\u001b[39;00m errcode:\n",
      "\u001b[31mKeyboardInterrupt\u001b[39m: "
     ]
    }
   ],
   "source": [
    "# optional: overlay POIs, color-map defined earlier\n",
    "img = grid_with_pois_image(grid, tr, poi_gdf, scale=5, color_map=color_map)\n",
    "img.save(\"venice_sommarioni_5x.png\")"
   ]
  },
  {
   "cell_type": "markdown",
   "id": "22de9056",
   "metadata": {},
   "source": [
    "### POIs transformed/adjusted"
   ]
  },
  {
   "cell_type": "code",
   "execution_count": 36,
   "id": "41a7d28b",
   "metadata": {},
   "outputs": [
    {
     "data": {
      "text/plain": [
       "array([[0, 0, 0, ..., 0, 0, 0],\n",
       "       [0, 0, 0, ..., 0, 0, 0],\n",
       "       [0, 0, 0, ..., 0, 0, 0],\n",
       "       ...,\n",
       "       [0, 0, 0, ..., 0, 0, 0],\n",
       "       [0, 0, 0, ..., 0, 0, 0],\n",
       "       [0, 0, 0, ..., 0, 0, 0]], shape=(3180, 4994), dtype=uint8)"
      ]
     },
     "execution_count": 36,
     "metadata": {},
     "output_type": "execute_result"
    }
   ],
   "source": [
    "grid"
   ]
  },
  {
   "cell_type": "code",
   "execution_count": 38,
   "id": "1a827edb",
   "metadata": {},
   "outputs": [
    {
     "name": "stdout",
     "output_type": "stream",
     "text": [
      "32676 POIs landed inside the grid\n"
     ]
    }
   ],
   "source": [
    "poi_gdf = pois_to_grid_coords_adjusted(catastaci_1740.to_crs(32633), tr, grid)  # now keeps its rows\n",
    "print(len(poi_gdf), \"POIs landed inside the grid\")"
   ]
  },
  {
   "cell_type": "code",
   "execution_count": 41,
   "id": "4a7c9cec",
   "metadata": {},
   "outputs": [
    {
     "data": {
      "text/html": [
       "<div>\n",
       "<style scoped>\n",
       "    .dataframe tbody tr th:only-of-type {\n",
       "        vertical-align: middle;\n",
       "    }\n",
       "\n",
       "    .dataframe tbody tr th {\n",
       "        vertical-align: top;\n",
       "    }\n",
       "\n",
       "    .dataframe thead th {\n",
       "        text-align: right;\n",
       "    }\n",
       "</style>\n",
       "<table border=\"1\" class=\"dataframe\">\n",
       "  <thead>\n",
       "    <tr style=\"text-align: right;\">\n",
       "      <th></th>\n",
       "      <th>uid</th>\n",
       "      <th>author</th>\n",
       "      <th>tif_path_img</th>\n",
       "      <th>owner_code</th>\n",
       "      <th>owner_count</th>\n",
       "      <th>PP_OwnerCode_SIMPL</th>\n",
       "      <th>owner_name</th>\n",
       "      <th>ten_name</th>\n",
       "      <th>function</th>\n",
       "      <th>an_rendi</th>\n",
       "      <th>...</th>\n",
       "      <th>PP_Owner_Entity</th>\n",
       "      <th>PP_Owner_FirstName</th>\n",
       "      <th>PP_Owner_LastName</th>\n",
       "      <th>owner_mestiere_std</th>\n",
       "      <th>PP_Owner_Notes</th>\n",
       "      <th>geometry</th>\n",
       "      <th>row_orig</th>\n",
       "      <th>col_orig</th>\n",
       "      <th>row</th>\n",
       "      <th>col</th>\n",
       "    </tr>\n",
       "  </thead>\n",
       "  <tbody>\n",
       "    <tr>\n",
       "      <th>0</th>\n",
       "      <td>CNC-0001</td>\n",
       "      <td>Davide Drago</td>\n",
       "      <td>/catastici/Catastici-436/10/1393.tif</td>\n",
       "      <td>PPL</td>\n",
       "      <td>1</td>\n",
       "      <td>Private</td>\n",
       "      <td>Liberal Campi secondo prete titolato della Chiesa</td>\n",
       "      <td>Francesco Zeni</td>\n",
       "      <td>casa e bottega da barbier</td>\n",
       "      <td>70</td>\n",
       "      <td>...</td>\n",
       "      <td>None</td>\n",
       "      <td>Liberal</td>\n",
       "      <td>CAMPI</td>\n",
       "      <td></td>\n",
       "      <td>PERSON</td>\n",
       "      <td>POINT (291832.846 5035321.328)</td>\n",
       "      <td>1344</td>\n",
       "      <td>2516</td>\n",
       "      <td>1344</td>\n",
       "      <td>2515</td>\n",
       "    </tr>\n",
       "    <tr>\n",
       "      <th>1</th>\n",
       "      <td>CNC-0002</td>\n",
       "      <td>Davide Drago</td>\n",
       "      <td>/catastici/Catastici-436/10/1393.tif</td>\n",
       "      <td>PPL</td>\n",
       "      <td>1</td>\n",
       "      <td>Private</td>\n",
       "      <td>Filippo Frari terzo prete titolato della Chiesa</td>\n",
       "      <td>Dio M'aiuti Lazara</td>\n",
       "      <td>casa</td>\n",
       "      <td>60</td>\n",
       "      <td>...</td>\n",
       "      <td>None</td>\n",
       "      <td>Filippo</td>\n",
       "      <td>FRARI</td>\n",
       "      <td></td>\n",
       "      <td>PERSON</td>\n",
       "      <td>POINT (291841.531 5035307.749)</td>\n",
       "      <td>1358</td>\n",
       "      <td>2525</td>\n",
       "      <td>1359</td>\n",
       "      <td>2523</td>\n",
       "    </tr>\n",
       "    <tr>\n",
       "      <th>2</th>\n",
       "      <td>CNC-0003</td>\n",
       "      <td>Davide Drago</td>\n",
       "      <td>/catastici/Catastici-436/10/1393.tif</td>\n",
       "      <td>ent_REL_TTL</td>\n",
       "      <td>1</td>\n",
       "      <td>Religious entity</td>\n",
       "      <td>Pievan di San Cancian</td>\n",
       "      <td>Bortolamio Piazza</td>\n",
       "      <td>bottega da strazariol</td>\n",
       "      <td>14</td>\n",
       "      <td>...</td>\n",
       "      <td>CHIESA DI SAN CANCIANO</td>\n",
       "      <td>None</td>\n",
       "      <td>None</td>\n",
       "      <td></td>\n",
       "      <td>ENTITY</td>\n",
       "      <td>POINT (291845.478 5035313.512)</td>\n",
       "      <td>1352</td>\n",
       "      <td>2529</td>\n",
       "      <td>1352</td>\n",
       "      <td>2521</td>\n",
       "    </tr>\n",
       "    <tr>\n",
       "      <th>3</th>\n",
       "      <td>CNC-0004</td>\n",
       "      <td>Davide Drago</td>\n",
       "      <td>/catastici/Catastici-436/10/1393.tif</td>\n",
       "      <td>PPL</td>\n",
       "      <td>1</td>\n",
       "      <td>Private</td>\n",
       "      <td>Filippo Frari terzo prete titolato della Chiesa</td>\n",
       "      <td>Bortolamio Piazza</td>\n",
       "      <td>bottega da strazariol</td>\n",
       "      <td>4</td>\n",
       "      <td>...</td>\n",
       "      <td>None</td>\n",
       "      <td>Filippo</td>\n",
       "      <td>FRARI</td>\n",
       "      <td></td>\n",
       "      <td>PERSON</td>\n",
       "      <td>POINT (291846.426 5035312.091)</td>\n",
       "      <td>1353</td>\n",
       "      <td>2530</td>\n",
       "      <td>1353</td>\n",
       "      <td>2521</td>\n",
       "    </tr>\n",
       "    <tr>\n",
       "      <th>4</th>\n",
       "      <td>CNC-0005</td>\n",
       "      <td>Davide Drago</td>\n",
       "      <td>/catastici/Catastici-436/10/1393.tif</td>\n",
       "      <td>PPL</td>\n",
       "      <td>1</td>\n",
       "      <td>Private</td>\n",
       "      <td>Agostin Filippi di Vicenza</td>\n",
       "      <td>Stefano Ratti</td>\n",
       "      <td>casa e bottega da tentor</td>\n",
       "      <td>70</td>\n",
       "      <td>...</td>\n",
       "      <td>None</td>\n",
       "      <td>Agostin</td>\n",
       "      <td>FILIPPI</td>\n",
       "      <td></td>\n",
       "      <td>PERSON</td>\n",
       "      <td>POINT (291824.083 5035303.564)</td>\n",
       "      <td>1362</td>\n",
       "      <td>2508</td>\n",
       "      <td>1361</td>\n",
       "      <td>2509</td>\n",
       "    </tr>\n",
       "    <tr>\n",
       "      <th>...</th>\n",
       "      <td>...</td>\n",
       "      <td>...</td>\n",
       "      <td>...</td>\n",
       "      <td>...</td>\n",
       "      <td>...</td>\n",
       "      <td>...</td>\n",
       "      <td>...</td>\n",
       "      <td>...</td>\n",
       "      <td>...</td>\n",
       "      <td>...</td>\n",
       "      <td>...</td>\n",
       "      <td>...</td>\n",
       "      <td>...</td>\n",
       "      <td>...</td>\n",
       "      <td>...</td>\n",
       "      <td>...</td>\n",
       "      <td>...</td>\n",
       "      <td>...</td>\n",
       "      <td>...</td>\n",
       "      <td>...</td>\n",
       "      <td>...</td>\n",
       "    </tr>\n",
       "    <tr>\n",
       "      <th>32671</th>\n",
       "      <td>APO-0415</td>\n",
       "      <td>Davide Drago</td>\n",
       "      <td>/catastici/Catastici-437/6/0736.tif</td>\n",
       "      <td>PPL</td>\n",
       "      <td>1</td>\n",
       "      <td>Private</td>\n",
       "      <td>Girolamo Giacomini</td>\n",
       "      <td>nan</td>\n",
       "      <td>abitazione di propria proprietà</td>\n",
       "      <td>nan</td>\n",
       "      <td>...</td>\n",
       "      <td>None</td>\n",
       "      <td>Girolamo</td>\n",
       "      <td>GIACOMINI</td>\n",
       "      <td></td>\n",
       "      <td>PERSON</td>\n",
       "      <td>POINT (291255.085 5035063.179)</td>\n",
       "      <td>1602</td>\n",
       "      <td>1939</td>\n",
       "      <td>1603</td>\n",
       "      <td>1939</td>\n",
       "    </tr>\n",
       "    <tr>\n",
       "      <th>32672</th>\n",
       "      <td>APO-0416</td>\n",
       "      <td>Davide Drago</td>\n",
       "      <td>/catastici/Catastici-437/6/0736.tif</td>\n",
       "      <td>PPL</td>\n",
       "      <td>1</td>\n",
       "      <td>Private</td>\n",
       "      <td>Giannantonio Bonicelli</td>\n",
       "      <td>nan</td>\n",
       "      <td>abitazione di propria proprietà</td>\n",
       "      <td>nan</td>\n",
       "      <td>...</td>\n",
       "      <td>None</td>\n",
       "      <td>Giannantonio</td>\n",
       "      <td>BONICELLI</td>\n",
       "      <td></td>\n",
       "      <td>PERSON</td>\n",
       "      <td>POINT (291243.71 5035150.776)</td>\n",
       "      <td>1515</td>\n",
       "      <td>1927</td>\n",
       "      <td>1516</td>\n",
       "      <td>1925</td>\n",
       "    </tr>\n",
       "    <tr>\n",
       "      <th>32673</th>\n",
       "      <td>APO-0417</td>\n",
       "      <td>Davide Drago</td>\n",
       "      <td>/catastici/Catastici-437/6/0736.tif</td>\n",
       "      <td>PPL</td>\n",
       "      <td>1</td>\n",
       "      <td>Private</td>\n",
       "      <td>Ferdinando Crivelli</td>\n",
       "      <td>nan</td>\n",
       "      <td>abitazione di propria proprietà</td>\n",
       "      <td>nan</td>\n",
       "      <td>...</td>\n",
       "      <td>None</td>\n",
       "      <td>Ferdinando</td>\n",
       "      <td>CRIVELLI</td>\n",
       "      <td></td>\n",
       "      <td>PERSON</td>\n",
       "      <td>POINT (291287.848 5035146.617)</td>\n",
       "      <td>1519</td>\n",
       "      <td>1971</td>\n",
       "      <td>1523</td>\n",
       "      <td>1967</td>\n",
       "    </tr>\n",
       "    <tr>\n",
       "      <th>32674</th>\n",
       "      <td>APO-0418</td>\n",
       "      <td>Davide Drago</td>\n",
       "      <td>/catastici/Catastici-437/6/0736.tif</td>\n",
       "      <td>PPL</td>\n",
       "      <td>1</td>\n",
       "      <td>Private</td>\n",
       "      <td>Bortolo Bernardi</td>\n",
       "      <td>nan</td>\n",
       "      <td>abitazione di propria proprietà</td>\n",
       "      <td>nan</td>\n",
       "      <td>...</td>\n",
       "      <td>None</td>\n",
       "      <td>Bortolo</td>\n",
       "      <td>BERNARDI</td>\n",
       "      <td></td>\n",
       "      <td>PERSON</td>\n",
       "      <td>POINT (291280.549 5035138.808)</td>\n",
       "      <td>1527</td>\n",
       "      <td>1964</td>\n",
       "      <td>1527</td>\n",
       "      <td>1959</td>\n",
       "    </tr>\n",
       "    <tr>\n",
       "      <th>32675</th>\n",
       "      <td>APO-0419</td>\n",
       "      <td>Davide Drago</td>\n",
       "      <td>/catastici/Catastici-437/6/0736.tif</td>\n",
       "      <td>PPL</td>\n",
       "      <td>1</td>\n",
       "      <td>Private</td>\n",
       "      <td>Giacomo Tortello</td>\n",
       "      <td>nan</td>\n",
       "      <td>abitazione di propria proprietà</td>\n",
       "      <td>nan</td>\n",
       "      <td>...</td>\n",
       "      <td>None</td>\n",
       "      <td>Giacomo</td>\n",
       "      <td>TORTELLO</td>\n",
       "      <td></td>\n",
       "      <td>PERSON</td>\n",
       "      <td>POINT (291258.649 5035155.614)</td>\n",
       "      <td>1510</td>\n",
       "      <td>1942</td>\n",
       "      <td>1512</td>\n",
       "      <td>1939</td>\n",
       "    </tr>\n",
       "  </tbody>\n",
       "</table>\n",
       "<p>32676 rows × 35 columns</p>\n",
       "</div>"
      ],
      "text/plain": [
       "            uid        author                          tif_path_img  \\\n",
       "0      CNC-0001  Davide Drago  /catastici/Catastici-436/10/1393.tif   \n",
       "1      CNC-0002  Davide Drago  /catastici/Catastici-436/10/1393.tif   \n",
       "2      CNC-0003  Davide Drago  /catastici/Catastici-436/10/1393.tif   \n",
       "3      CNC-0004  Davide Drago  /catastici/Catastici-436/10/1393.tif   \n",
       "4      CNC-0005  Davide Drago  /catastici/Catastici-436/10/1393.tif   \n",
       "...         ...           ...                                   ...   \n",
       "32671  APO-0415  Davide Drago   /catastici/Catastici-437/6/0736.tif   \n",
       "32672  APO-0416  Davide Drago   /catastici/Catastici-437/6/0736.tif   \n",
       "32673  APO-0417  Davide Drago   /catastici/Catastici-437/6/0736.tif   \n",
       "32674  APO-0418  Davide Drago   /catastici/Catastici-437/6/0736.tif   \n",
       "32675  APO-0419  Davide Drago   /catastici/Catastici-437/6/0736.tif   \n",
       "\n",
       "        owner_code owner_count PP_OwnerCode_SIMPL  \\\n",
       "0              PPL           1            Private   \n",
       "1              PPL           1            Private   \n",
       "2      ent_REL_TTL           1   Religious entity   \n",
       "3              PPL           1            Private   \n",
       "4              PPL           1            Private   \n",
       "...            ...         ...                ...   \n",
       "32671          PPL           1            Private   \n",
       "32672          PPL           1            Private   \n",
       "32673          PPL           1            Private   \n",
       "32674          PPL           1            Private   \n",
       "32675          PPL           1            Private   \n",
       "\n",
       "                                              owner_name            ten_name  \\\n",
       "0      Liberal Campi secondo prete titolato della Chiesa      Francesco Zeni   \n",
       "1        Filippo Frari terzo prete titolato della Chiesa  Dio M'aiuti Lazara   \n",
       "2                                  Pievan di San Cancian   Bortolamio Piazza   \n",
       "3        Filippo Frari terzo prete titolato della Chiesa   Bortolamio Piazza   \n",
       "4                             Agostin Filippi di Vicenza       Stefano Ratti   \n",
       "...                                                  ...                 ...   \n",
       "32671                                 Girolamo Giacomini                 nan   \n",
       "32672                             Giannantonio Bonicelli                 nan   \n",
       "32673                                Ferdinando Crivelli                 nan   \n",
       "32674                                   Bortolo Bernardi                 nan   \n",
       "32675                                   Giacomo Tortello                 nan   \n",
       "\n",
       "                              function an_rendi  ...         PP_Owner_Entity  \\\n",
       "0            casa e bottega da barbier       70  ...                    None   \n",
       "1                                 casa       60  ...                    None   \n",
       "2                bottega da strazariol       14  ...  CHIESA DI SAN CANCIANO   \n",
       "3                bottega da strazariol        4  ...                    None   \n",
       "4             casa e bottega da tentor       70  ...                    None   \n",
       "...                                ...      ...  ...                     ...   \n",
       "32671  abitazione di propria proprietà      nan  ...                    None   \n",
       "32672  abitazione di propria proprietà      nan  ...                    None   \n",
       "32673  abitazione di propria proprietà      nan  ...                    None   \n",
       "32674  abitazione di propria proprietà      nan  ...                    None   \n",
       "32675  abitazione di propria proprietà      nan  ...                    None   \n",
       "\n",
       "      PP_Owner_FirstName PP_Owner_LastName owner_mestiere_std PP_Owner_Notes  \\\n",
       "0                Liberal             CAMPI                            PERSON   \n",
       "1                Filippo             FRARI                            PERSON   \n",
       "2                   None              None                            ENTITY   \n",
       "3                Filippo             FRARI                            PERSON   \n",
       "4                Agostin           FILIPPI                            PERSON   \n",
       "...                  ...               ...                ...            ...   \n",
       "32671           Girolamo         GIACOMINI                            PERSON   \n",
       "32672       Giannantonio         BONICELLI                            PERSON   \n",
       "32673         Ferdinando          CRIVELLI                            PERSON   \n",
       "32674            Bortolo          BERNARDI                            PERSON   \n",
       "32675            Giacomo          TORTELLO                            PERSON   \n",
       "\n",
       "                             geometry row_orig col_orig   row   col  \n",
       "0      POINT (291832.846 5035321.328)     1344     2516  1344  2515  \n",
       "1      POINT (291841.531 5035307.749)     1358     2525  1359  2523  \n",
       "2      POINT (291845.478 5035313.512)     1352     2529  1352  2521  \n",
       "3      POINT (291846.426 5035312.091)     1353     2530  1353  2521  \n",
       "4      POINT (291824.083 5035303.564)     1362     2508  1361  2509  \n",
       "...                               ...      ...      ...   ...   ...  \n",
       "32671  POINT (291255.085 5035063.179)     1602     1939  1603  1939  \n",
       "32672   POINT (291243.71 5035150.776)     1515     1927  1516  1925  \n",
       "32673  POINT (291287.848 5035146.617)     1519     1971  1523  1967  \n",
       "32674  POINT (291280.549 5035138.808)     1527     1964  1527  1959  \n",
       "32675  POINT (291258.649 5035155.614)     1510     1942  1512  1939  \n",
       "\n",
       "[32676 rows x 35 columns]"
      ]
     },
     "execution_count": 41,
     "metadata": {},
     "output_type": "execute_result"
    }
   ],
   "source": [
    "poi_gdf_adj = poi_gdf.rename(columns={\n",
    "    'row': 'row_orig',\n",
    "    'col': 'col_orig',\n",
    "    'row_adj': 'row',\n",
    "    'col_adj': 'col'\n",
    "})\n",
    "poi_gdf_adj"
   ]
  },
  {
   "cell_type": "code",
   "execution_count": 43,
   "id": "a3bc1abf",
   "metadata": {},
   "outputs": [],
   "source": [
    "# optional: overlay POIs, color-map defined earlier\n",
    "img = grid_with_pois_image(grid, tr, poi_gdf_adj, scale=5, color_map=color_map)\n",
    "img.save(\"venice_sommarioni_5x_adj.png\")"
   ]
  }
 ],
 "metadata": {
  "kernelspec": {
   "display_name": "venice-data-week",
   "language": "python",
   "name": "python3"
  },
  "language_info": {
   "codemirror_mode": {
    "name": "ipython",
    "version": 3
   },
   "file_extension": ".py",
   "mimetype": "text/x-python",
   "name": "python",
   "nbconvert_exporter": "python",
   "pygments_lexer": "ipython3",
   "version": "3.11.10"
  }
 },
 "nbformat": 4,
 "nbformat_minor": 5
}
